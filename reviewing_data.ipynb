{
 "cells": [
  {
   "cell_type": "markdown",
   "id": "70c5707b-11a4-4e6d-829c-a55334730938",
   "metadata": {},
   "source": [
    "reviewing data\n",
    "1. loading data(two csv files)\n",
    "2. loading heads to check all columns."
   ]
  },
  {
   "cell_type": "code",
   "execution_count": 14,
   "id": "46562cd0-abea-407f-ad9a-0798a0b2b572",
   "metadata": {},
   "outputs": [
    {
     "name": "stdout",
     "output_type": "stream",
     "text": [
      "   user_id  total_anomaly_score  high_risk_count\n",
      "0  user_77                   13                0\n",
      "1  user_65                   13                0\n",
      "2  user_13                   11                0\n",
      "3  user_59                   11                0\n",
      "4  user_41                   11                0\n"
     ]
    }
   ],
   "source": [
    "import pandas as pd\n",
    "\n",
    "\n",
    "logs_file = \"C:/Users/Yawar/Detecting_Data_Breaches/data/processed/processed_logs_with_risk.csv\"\n",
    "summary_file = \"C:/Users/Yawar/Detecting_Data_Breaches/data/processed/user_anomaly_summary.csv\"\n",
    "\n",
    "\n",
    "logs = pd.read_csv(logs_file)\n",
    "user_summary = pd.read_csv(summary_file)\n",
    "\n",
    "\n",
    "print(logs.head())\n",
    "print(user_summary.head())\n"
   ]
  },
  {
   "cell_type": "code",
   "execution_count": null,
   "id": "70c621a0-7baf-4e9f-bdb6-a8d8851e63d4",
   "metadata": {},
   "outputs": [],
   "source": [
    "Verify data by ensuring no data is missing(checking null data)\n"
   ]
  },
  {
   "cell_type": "code",
   "execution_count": 7,
   "id": "4f9d0c30-0ab6-4e5c-904f-b4eb7eeece6a",
   "metadata": {},
   "outputs": [
    {
     "name": "stdout",
     "output_type": "stream",
     "text": [
      "Logs shape: (1000, 14)\n",
      "User summary shape: (100, 3)\n",
      "timestamp              0\n",
      "user_id                0\n",
      "activity               0\n",
      "location               0\n",
      "status                 0\n",
      "hour                   0\n",
      "date                   0\n",
      "time_diff            100\n",
      "activity_sequence      0\n",
      "unusual_time           0\n",
      "high_activity          0\n",
      "short_gap              0\n",
      "anomaly_score          0\n",
      "risk_category          0\n",
      "dtype: int64\n",
      "user_id                0\n",
      "total_anomaly_score    0\n",
      "high_risk_count        0\n",
      "dtype: int64\n"
     ]
    }
   ],
   "source": [
    "\n",
    "print(f\"Logs shape: {logs.shape}\")\n",
    "print(f\"User summary shape: {user_summary.shape}\")\n",
    "\n",
    "\n",
    "print(logs.isnull().sum())\n",
    "print(user_summary.isnull().sum())\n"
   ]
  },
  {
   "cell_type": "markdown",
   "id": "5495404b-72ce-4869-98d8-0ddbeb1084a7",
   "metadata": {},
   "source": [
    "printing top 10 users with highest anomaly score."
   ]
  },
  {
   "cell_type": "code",
   "execution_count": 15,
   "id": "e6dee2b5-2b23-49f9-a761-be729bb28817",
   "metadata": {},
   "outputs": [
    {
     "name": "stdout",
     "output_type": "stream",
     "text": [
      "Top 10 users with highest anomaly scores:\n",
      "                      timestamp  user_id        activity   location   status  \\\n",
      "796  2024-12-05 01:19:24.734191  user_11           login     Mumbai  success   \n",
      "251  2024-11-12 04:19:24.730819  user_36     file_upload  Hyderabad  success   \n",
      "999  2024-11-24 04:19:24.735191  user_61     file_upload  New Delhi   failed   \n",
      "252  2024-11-16 01:19:24.730819  user_68           login  Bangalore   failed   \n",
      "895  2024-11-14 04:19:24.735191  user_63           login  Bangalore  success   \n",
      "785  2024-11-27 00:19:24.734191  user_16  password_reset  Bangalore   failed   \n",
      "996  2024-11-15 01:19:24.735191  user_60           login  Hyderabad  success   \n",
      "957  2024-11-17 02:19:24.735191  user_62  password_reset  Bangalore  success   \n",
      "244  2024-11-25 03:19:24.730819  user_52     file_upload  Hyderabad  success   \n",
      "278  2024-11-10 02:19:24.730819  user_57     file_upload     Mumbai   failed   \n",
      "\n",
      "     hour        date     time_diff  \\\n",
      "796     1  2024-12-05 -2.556000e+05   \n",
      "251     4  2024-11-12 -4.248000e+05   \n",
      "999     4  2024-11-24 -1.414800e+06   \n",
      "252     1  2024-11-16 -1.882800e+06   \n",
      "895     4  2024-11-14 -2.160000e+04   \n",
      "785     0  2024-11-27 -4.824000e+05   \n",
      "996     1  2024-11-15 -1.213200e+06   \n",
      "957     2  2024-11-17 -1.915200e+06   \n",
      "244     3  2024-11-25 -3.780000e+05   \n",
      "278     2  2024-11-10 -3.744000e+05   \n",
      "\n",
      "                                     activity_sequence  unusual_time  \\\n",
      "796  login -> file_upload -> login -> password_rese...             1   \n",
      "251  file_upload -> password_reset -> file_upload -...             1   \n",
      "999  password_reset -> file_upload -> file_upload -...             1   \n",
      "252  password_reset -> login -> file_upload -> file...             1   \n",
      "895  password_reset -> file_upload -> file_upload -...             1   \n",
      "785  login -> password_reset -> file_upload -> pass...             1   \n",
      "996  file_upload -> login -> password_reset -> logi...             1   \n",
      "957  password_reset -> login -> file_upload -> file...             1   \n",
      "244  login -> file_upload -> file_upload -> file_up...             1   \n",
      "278  file_upload -> file_upload -> file_upload -> f...             1   \n",
      "\n",
      "     high_activity  short_gap  anomaly_score risk_category  \n",
      "796              0          1              2   Medium Risk  \n",
      "251              0          1              2   Medium Risk  \n",
      "999              0          1              2   Medium Risk  \n",
      "252              0          1              2   Medium Risk  \n",
      "895              0          1              2   Medium Risk  \n",
      "785              0          1              2   Medium Risk  \n",
      "996              0          1              2   Medium Risk  \n",
      "957              0          1              2   Medium Risk  \n",
      "244              0          1              2   Medium Risk  \n",
      "278              0          1              2   Medium Risk  \n"
     ]
    }
   ],
   "source": [
    "\n",
    "top_users = logs.sort_values(by = 'anomaly_score', ascending=False).head(10)\n",
    "print(\"Top 10 users with highest anomaly scores:\")\n",
    "print(top_users)\n"
   ]
  },
  {
   "cell_type": "code",
   "execution_count": null,
   "id": "f791b15a-ed4a-4959-8f1c-1c086eb96714",
   "metadata": {},
   "outputs": [],
   "source": []
  }
 ],
 "metadata": {
  "kernelspec": {
   "display_name": "Python 3 (ipykernel)",
   "language": "python",
   "name": "python3"
  },
  "language_info": {
   "codemirror_mode": {
    "name": "ipython",
    "version": 3
   },
   "file_extension": ".py",
   "mimetype": "text/x-python",
   "name": "python",
   "nbconvert_exporter": "python",
   "pygments_lexer": "ipython3",
   "version": "3.12.5"
  }
 },
 "nbformat": 4,
 "nbformat_minor": 5
}
